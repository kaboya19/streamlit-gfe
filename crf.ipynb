{
 "cells": [
  {
   "cell_type": "code",
   "execution_count": null,
   "id": "809fa684",
   "metadata": {},
   "outputs": [
    {
     "ename": "Error",
     "evalue": "It looks like you are using Playwright Sync API inside the asyncio loop.\nPlease use the Async API instead.",
     "output_type": "error",
     "traceback": [
      "\u001b[1;31m---------------------------------------------------------------------------\u001b[0m",
      "\u001b[1;31mError\u001b[0m                                     Traceback (most recent call last)",
      "Cell \u001b[1;32mIn[1], line 4\u001b[0m\n\u001b[0;32m      1\u001b[0m \u001b[38;5;28;01mfrom\u001b[39;00m \u001b[38;5;21;01mplaywright\u001b[39;00m\u001b[38;5;21;01m.\u001b[39;00m\u001b[38;5;21;01msync_api\u001b[39;00m \u001b[38;5;28;01mimport\u001b[39;00m sync_playwright\n\u001b[0;32m      2\u001b[0m \u001b[38;5;28;01mimport\u001b[39;00m \u001b[38;5;21;01mpandas\u001b[39;00m \u001b[38;5;28;01mas\u001b[39;00m \u001b[38;5;21;01mpd\u001b[39;00m\n\u001b[1;32m----> 4\u001b[0m \u001b[38;5;28;01mwith\u001b[39;00m sync_playwright() \u001b[38;5;28;01mas\u001b[39;00m p:\n\u001b[0;32m      5\u001b[0m     browser \u001b[38;5;241m=\u001b[39m p\u001b[38;5;241m.\u001b[39mchromium\u001b[38;5;241m.\u001b[39mlaunch(headless\u001b[38;5;241m=\u001b[39m\u001b[38;5;28;01mTrue\u001b[39;00m)  \u001b[38;5;66;03m# headless=False ile tarayıcıyı görerek izleyebilirsin\u001b[39;00m\n\u001b[0;32m      6\u001b[0m     page \u001b[38;5;241m=\u001b[39m browser\u001b[38;5;241m.\u001b[39mnew_page()\n",
      "File \u001b[1;32mc:\\Users\\Bora\\AppData\\Local\\Programs\\Python\\Python310\\lib\\site-packages\\playwright\\sync_api\\_context_manager.py:47\u001b[0m, in \u001b[0;36mPlaywrightContextManager.__enter__\u001b[1;34m(self)\u001b[0m\n\u001b[0;32m     45\u001b[0m             \u001b[38;5;28mself\u001b[39m\u001b[38;5;241m.\u001b[39m_own_loop \u001b[38;5;241m=\u001b[39m \u001b[38;5;28;01mTrue\u001b[39;00m\n\u001b[0;32m     46\u001b[0m         \u001b[38;5;28;01mif\u001b[39;00m \u001b[38;5;28mself\u001b[39m\u001b[38;5;241m.\u001b[39m_loop\u001b[38;5;241m.\u001b[39mis_running():\n\u001b[1;32m---> 47\u001b[0m             \u001b[38;5;28;01mraise\u001b[39;00m Error(\n\u001b[0;32m     48\u001b[0m \u001b[38;5;250m                \u001b[39m\u001b[38;5;124;03m\"\"\"It looks like you are using Playwright Sync API inside the asyncio loop.\u001b[39;00m\n\u001b[0;32m     49\u001b[0m \u001b[38;5;124;03mPlease use the Async API instead.\"\"\"\u001b[39;00m\n\u001b[0;32m     50\u001b[0m             )\n\u001b[0;32m     52\u001b[0m         \u001b[38;5;66;03m# Create a new fiber for the protocol dispatcher. It will be pumping events\u001b[39;00m\n\u001b[0;32m     53\u001b[0m         \u001b[38;5;66;03m# until the end of times. We will pass control to that fiber every time we\u001b[39;00m\n\u001b[0;32m     54\u001b[0m         \u001b[38;5;66;03m# block while waiting for a response.\u001b[39;00m\n\u001b[0;32m     55\u001b[0m         \u001b[38;5;28;01mdef\u001b[39;00m \u001b[38;5;21mgreenlet_main\u001b[39m() \u001b[38;5;241m-\u001b[39m\u001b[38;5;241m>\u001b[39m \u001b[38;5;28;01mNone\u001b[39;00m:\n",
      "\u001b[1;31mError\u001b[0m: It looks like you are using Playwright Sync API inside the asyncio loop.\nPlease use the Async API instead."
     ]
    }
   ],
   "source": [
    "import requests\n",
    "\n",
    "url = \"https://per2.segmentify.com//add/events/v1.json?apiKey=2081f200-3745-47f1-8e37-60b3f58a9d2d\"\n",
    "\n",
    "headers = {\n",
    "    \"accept\": \"*/*\",\n",
    "    \"accept-encoding\": \"gzip, deflate, br, zstd\",\n",
    "    \"accept-language\": \"tr-TR,tr;q=0.9,en-US;q=0.8,en;q=0.7\",\n",
    "    \"connection\": \"keep-alive\",\n",
    "    \"content-type\": \"text/plain\",\n",
    "    \"origin\": \"https://www.carrefoursa.com\",\n",
    "    \"referer\": \"https://www.carrefoursa.com/sebze/c/1025\",\n",
    "    \"sec-ch-ua\": '\"Not;A=Brand\";v=\"99\", \"Google Chrome\";v=\"139\", \"Chromium\";v=\"139\"',\n",
    "    \"sec-ch-ua-mobile\": \"?0\",\n",
    "    \"sec-ch-ua-platform\": '\"Windows\"',\n",
    "    \"sec-fetch-dest\": \"empty\",\n",
    "    \"sec-fetch-mode\": \"cors\",\n",
    "    \"sec-fetch-site\": \"cross-site\",\n",
    "    \"user-agent\": \"Mozilla/5.0 (Windows NT 10.0; Win64; x64) AppleWebKit/537.36 (KHTML, like Gecko) Chrome/139.0.0.0 Safari/537.36\",\n",
    "    \"x-sfy-api-key\": \"2081f200-3745-47f1-8e37-60b3f58a9d2d\"\n",
    "}\n",
    "\n",
    "payload = [\n",
    "    {\n",
    "        \"name\": \"FILTER\",\n",
    "        \"userId\": \"-3581052923710447615\",\n",
    "        \"sessionId\": \"-4013396460551569408\",\n",
    "        \"testMode\": \"false\",\n",
    "        \"device\": \"PC\",\n",
    "        \"noProcess\": False,\n",
    "        \"tryCount\": 0,\n",
    "        \"nextPage\": False,\n",
    "        \"dnt\": False,\n",
    "        \"params\": {},\n",
    "        \"recommendIds\": [],\n",
    "        \"pageUrl\": \"https://www.carrefoursa.com/sebze/c/1025\",\n",
    "        \"browser\": \"Chrome\",\n",
    "        \"os\": \"Windows\",\n",
    "        \"osversion\": \"10\",\n",
    "        \"userAgent\": \"Mozilla/5.0 (Windows NT 10.0; Win64; x64) AppleWebKit/537.36 (KHTML, like Gecko) Chrome/139.0.0.0 Safari/537.36\",\n",
    "        \"lang\": \"TR\",\n",
    "        \"currency\": \"TRY\",\n",
    "        \"region\": \"1014\",\n",
    "        \"async\": \"true\",\n",
    "        \"globalMode\": \"REAL\",\n",
    "        \"experiments\": {},\n",
    "        \"email\": \"\",\n",
    "        \"ft\": \"2025.08.06 09:16:21.919\",\n",
    "        \"tz\": \"-180\",\n",
    "        \"brands\": [],\n",
    "        \"sizes\": [],\n",
    "        \"prices\": []\n",
    "    },\n",
    "    {\n",
    "        \"name\": \"PAGE_VIEW\",\n",
    "        \"userId\": \"-3581052923710447615\",\n",
    "        \"sessionId\": \"-4013396460551569408\",\n",
    "        \"testMode\": \"false\",\n",
    "        \"device\": \"PC\",\n",
    "        \"noProcess\": False,\n",
    "        \"tryCount\": 0,\n",
    "        \"nextPage\": False,\n",
    "        \"dnt\": False,\n",
    "        \"params\": {\n",
    "            \"brand\": \"__ANY__\"\n",
    "        },\n",
    "\n",
    "    }\n",
    "]\n",
    "\n",
    "# JSON string + CSRF token ekleniyor\n",
    "import json\n",
    "data = json.dumps(payload) + \"&CSRFToken=9f0c6d89-f7b0-48ca-ab87-51babc575c7e\"\n",
    "\n",
    "response = requests.post(url, headers=headers, data=data)\n",
    "\n",
    "print(\"Status Code:\", response.status_code)\n",
    "print(\"Response Text:\", response.text)\n"
   ]
  },
  {
   "cell_type": "code",
   "execution_count": 4,
   "id": "231f608f",
   "metadata": {},
   "outputs": [
    {
     "data": {
      "text/plain": [
       "{'timestamp': 1754461241510, 'statusCode': 'UNDEFINED_LANGUAGE'}"
      ]
     },
     "execution_count": 4,
     "metadata": {},
     "output_type": "execute_result"
    }
   ],
   "source": [
    "response.json()"
   ]
  }
 ],
 "metadata": {
  "kernelspec": {
   "display_name": "Python 3",
   "language": "python",
   "name": "python3"
  },
  "language_info": {
   "codemirror_mode": {
    "name": "ipython",
    "version": 3
   },
   "file_extension": ".py",
   "mimetype": "text/x-python",
   "name": "python",
   "nbconvert_exporter": "python",
   "pygments_lexer": "ipython3",
   "version": "3.10.0"
  }
 },
 "nbformat": 4,
 "nbformat_minor": 5
}
